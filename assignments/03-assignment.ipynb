{
 "cells": [
  {
   "attachments": {},
   "cell_type": "markdown",
   "metadata": {},
   "source": [
    "# Assignment 3"
   ]
  },
  {
   "attachments": {},
   "cell_type": "markdown",
   "metadata": {},
   "source": [
    "## Submit as an HTML file"
   ]
  },
  {
   "attachments": {},
   "cell_type": "markdown",
   "metadata": {},
   "source": [
    "<font size = \"5\">\n",
    "Print your Emory ID below"
   ]
  },
  {
   "cell_type": "code",
<<<<<<< Updated upstream
   "execution_count": null,
   "metadata": {},
   "outputs": [],
   "source": []
=======
   "execution_count": 1,
   "metadata": {},
   "outputs": [
    {
     "name": "stdout",
     "output_type": "stream",
     "text": [
      "2576217\n"
     ]
    }
   ],
   "source": [
    "print(2576217)"
   ]
>>>>>>> Stashed changes
  },
  {
   "attachments": {},
   "cell_type": "markdown",
   "metadata": {},
   "source": [
    "<font size = \"5\">\n",
    "\n",
    "Import the numpy and matplotlib packages"
   ]
  },
  {
   "cell_type": "code",
<<<<<<< Updated upstream
   "execution_count": null,
=======
   "execution_count": 2,
>>>>>>> Stashed changes
   "metadata": {},
   "outputs": [],
   "source": [
    "# Write your own code\n",
<<<<<<< Updated upstream
    "\n"
=======
    "import numpy as np\n",
    "import matplotlib.pyplot as plt"
>>>>>>> Stashed changes
   ]
  },
  {
   "attachments": {},
   "cell_type": "markdown",
   "metadata": {},
   "source": [
    "<font size = \"5\">\n",
    "\n",
    "(a) Compute a formula:\n",
    "\n",
    "<font size = \"3\">\n",
    "\n",
    "$V=P\\left(1+{\\frac {r}{n}}\\right)^{nt}$\n",
    "\n",
    "Calculate $V$ when:\n",
    "- $P = 1800 $\n",
    "- $r = 0.24$\n",
    "- $n = 12$\n",
    "- $t = 8$\n",
    "\n",
    "To get full points:\n",
    "- First define each of these variables\n",
    "- Write the formula above"
   ]
  },
  {
   "cell_type": "code",
<<<<<<< Updated upstream
   "execution_count": null,
   "metadata": {},
   "outputs": [],
=======
   "execution_count": 4,
   "metadata": {},
   "outputs": [
    {
     "name": "stdout",
     "output_type": "stream",
     "text": [
      "12047.27972315071\n"
     ]
    }
   ],
>>>>>>> Stashed changes
   "source": [
    "# Note (if you're interested in the context)\n",
    "# V = Accumulated value of investment\n",
    "# P = Principal (the amount deposited)\n",
    "# r = Quarterly interest rate\n",
    "# n = Number of months in a year\n",
    "# t = Number of years\n",
    "\n",
    "# Write your own code\n",
<<<<<<< Updated upstream
    "\n",
    "\n",
    "\n",
    "\n"
=======
    "P = 1800\n",
    "r = 0.24\n",
    "n = 12\n",
    "t = 8\n",
    "\n",
    "v = P * (1 + r/n)**(n*t)\n",
    "\n",
    "print(v)"
>>>>>>> Stashed changes
   ]
  },
  {
   "attachments": {},
   "cell_type": "markdown",
   "metadata": {},
   "source": [
    "<font size = \"5\">\n",
    "\n",
    "(b) Composite operations on arrays\n",
    "\n",
    "<font size = \"3\">\n",
    "\n",
    "- Define $r = 0.06$\n",
    "- Define two arrays $a$ and $t$ using \"np.array()\", assigning the following values <br>\n",
    "\n",
    "$ a = \\begin{pmatrix} a_0 \\\\ a_1 \\\\ a_2 \\end{pmatrix} = \\begin{pmatrix} 20 \\\\ 30 \\\\ 15 \\end{pmatrix}, \\qquad t = \\begin{pmatrix} t_0 \\\\ t_1 \\\\ t_2 \\end{pmatrix} = \\begin{pmatrix} 0 \\\\ 1 \\\\ 2 \\end{pmatrix} $\n",
    "\n",
    "- Use element-by-element vector operations to compute a new array $M$ of length 3: <br>\n",
    "\n",
    "$ M = \\begin{pmatrix} a_0 / (1+r)^{t_0} \\\\ a_1 / (1+r)^{t_1} \\\\ a_2 / (1+r)^{t_2} \\end{pmatrix} $\n",
    "\n",
    "- Compute the sum of the values of $M$ using \"M.sum()\" <br>\n",
    "Note: I am using subscripts to denote the individual elements of $a$ and $t$.\n",
    "\n",
    "- In the code just enter the values of $a$ and $t$.\n",
    "- To get full points you must do all of the above tasks\n"
   ]
  },
  {
   "cell_type": "code",
<<<<<<< Updated upstream
   "execution_count": null,
   "metadata": {},
   "outputs": [],
   "source": [
    "# Write your own code\n",
    "\n",
    "\n",
    "\n"
=======
   "execution_count": 5,
   "metadata": {},
   "outputs": [
    {
     "data": {
      "text/plain": [
       "61.65183339266643"
      ]
     },
     "execution_count": 5,
     "metadata": {},
     "output_type": "execute_result"
    }
   ],
   "source": [
    "# Write your own code\n",
    "\n",
    "r = 0.06\n",
    "\n",
    "vec_a  = np.array([20,30,15])\n",
    "vec_t = np.array([0,1,2])\n",
    "\n",
    "vec_M = vec_a / (1+r)**vec_t\n",
    "\n",
    "vec_M.sum()\n"
>>>>>>> Stashed changes
   ]
  },
  {
   "attachments": {},
   "cell_type": "markdown",
   "metadata": {},
   "source": [
    "<font size = \"5\">\n",
    "\n",
    "(c) Plot a normal random variable\n",
    "<font size = \"3\">\n",
    "\n",
    "To get full points:\n",
    "\n",
    "- Set a seed using \"np.random.seed()\"\n",
    "- Create the random variable with the following parameters\n",
    "- mean = 3.5, standard deviation = 1.5, and size = 1500\n",
    "\n",
    "- Create a histogram\n",
    "- Label the axes"
   ]
  },
  {
   "cell_type": "code",
<<<<<<< Updated upstream
   "execution_count": null,
   "metadata": {},
   "outputs": [],
   "source": [
    "# Write your own code\n",
    "\n",
    "\n",
    "\n",
=======
   "execution_count": 8,
   "metadata": {},
   "outputs": [
    {
     "data": {
      "text/plain": [
       "Text(0, 0.5, 'Frequency')"
      ]
     },
     "execution_count": 8,
     "metadata": {},
     "output_type": "execute_result"
    },
    {
     "data": {
      "image/png": "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",
      "text/plain": [
       "<Figure size 640x480 with 1 Axes>"
      ]
     },
     "metadata": {},
     "output_type": "display_data"
    }
   ],
   "source": [
    "# Write your own code\n",
    "\n",
    "np.random.seed()\n",
    "\n",
    "random_var_a = np.random.normal(loc=3.5, scale=1.5, size=1500)\n",
    "\n",
    "plt.hist(x = random_var_a)\n",
    "plt.xlabel(\"Variable a\")\n",
    "plt.ylabel(\"Frequency\")\n",
>>>>>>> Stashed changes
    "\n"
   ]
  },
  {
   "attachments": {},
   "cell_type": "markdown",
   "metadata": {},
   "source": [
    "<font size = \"5\">\n",
    "\n",
    "(d) Checking whether word is part of list\n",
    "\n",
    "<font size = \"3\">\n",
    "\n",
    "- Define a variable \"animal\" with the value \"dog\"\n",
    "- Define a list of animals with the values list_animals = [\"cat\",\"rabbit\",\"dog\"]\n",
    "- Write an expression to test whether \"animal\" is contained in \"list_animals\"\n",
    "\n",
    "Hint: Use the \"in\" command. The final output should be True/False.\n",
    "\n",
    "To get full points run all of the above commands"
   ]
  },
  {
   "cell_type": "code",
<<<<<<< Updated upstream
   "execution_count": null,
   "metadata": {},
   "outputs": [],
   "source": [
    "# Write your own code\n",
    "\n",
    "\n",
    "\n"
=======
   "execution_count": 9,
   "metadata": {},
   "outputs": [
    {
     "data": {
      "text/plain": [
       "True"
      ]
     },
     "execution_count": 9,
     "metadata": {},
     "output_type": "execute_result"
    }
   ],
   "source": [
    "# Write your own code\n",
    "\n",
    "animal = \"dog\"\n",
    "list_animals = [\"cat\", \"rabbit\", \"dog\"]\n",
    "animal in list_animals"
>>>>>>> Stashed changes
   ]
  },
  {
   "cell_type": "markdown",
   "metadata": {},
   "source": [
    "<font size = \"5\">\n",
    "\n",
    "(e) Classifying a variable\n",
    "\n",
    "<font size = \"3\">\n",
    "\n",
    "- Define a new variable \"temperature\" and assign it \"25\"\n",
    "- Write an if/else statement that does the following\n",
    "    - Prints \"Temperature below 15\" if the temperature is less than or equal to 15.\n",
    "    - Prints \"Temperature between 15 and 20\" if the temperature is strictly greater <br>\n",
    "    than 15 \n",
    "     and less than or equal to 20.\n",
    "    - Prints \"Temperature above 20\" if the temperature is strictly higher than 20.\n",
    "\n",
    "\n",
<<<<<<< Updated upstream
=======
    "\n",
>>>>>>> Stashed changes
    "To get full points you must do all of the above instructions"
   ]
  },
  {
   "cell_type": "code",
<<<<<<< Updated upstream
   "execution_count": null,
   "metadata": {},
   "outputs": [],
   "source": [
    "# Write your own code\n",
    "\n",
    "\n",
    "\n"
=======
   "execution_count": 12,
   "metadata": {},
   "outputs": [
    {
     "name": "stdout",
     "output_type": "stream",
     "text": [
      "Temperature above 20\n"
     ]
    }
   ],
   "source": [
    "# Write your own code\n",
    "temperature = 25 \n",
    "\n",
    "if temperature < 15: \n",
    "    print(\"Temperature below 15\")\n",
    "elif 15<=temperature<= 20: \n",
    "    print(\"Temperature between 15 and 20\")   \n",
    "elif temperature > 20: \n",
    "    print(\"Temperature above 20\")\n"
>>>>>>> Stashed changes
   ]
  }
 ],
 "metadata": {
  "kernelspec": {
   "display_name": "Python 3",
   "language": "python",
   "name": "python3"
  },
  "language_info": {
   "codemirror_mode": {
    "name": "ipython",
    "version": 3
   },
   "file_extension": ".py",
   "mimetype": "text/x-python",
   "name": "python",
   "nbconvert_exporter": "python",
   "pygments_lexer": "ipython3",
<<<<<<< Updated upstream
   "version": "3.9.13"
=======
   "version": "3.11.5"
>>>>>>> Stashed changes
  },
  "orig_nbformat": 4,
  "vscode": {
   "interpreter": {
    "hash": "aee8b7b246df8f9039afb4144a1f6fd8d2ca17a180786b69acc140d282b71a49"
   }
  }
 },
 "nbformat": 4,
 "nbformat_minor": 2
}
