{
 "cells": [
  {
   "cell_type": "markdown",
   "metadata": {},
   "source": [
    "# Assignment 4"
   ]
  },
  {
   "cell_type": "markdown",
   "metadata": {},
   "source": [
    "## Submit as an HTML file"
   ]
  },
  {
   "cell_type": "markdown",
   "metadata": {},
   "source": [
    "<font size = \"5\">\n",
    "Print your Emory ID below"
   ]
  },
  {
   "cell_type": "code",
<<<<<<< Updated upstream
   "execution_count": null,
   "metadata": {},
   "outputs": [],
   "source": []
=======
   "execution_count": 1,
   "metadata": {},
   "outputs": [
    {
     "name": "stdout",
     "output_type": "stream",
     "text": [
      "2576217\n"
     ]
    }
   ],
   "source": [
    "print(2576217)"
   ]
>>>>>>> Stashed changes
  },
  {
   "cell_type": "markdown",
   "metadata": {},
   "source": [
    "<font size = \"5\">\n",
    "\n",
    "Import both the MatPlotLib and Numpy libraries"
   ]
  },
  {
   "cell_type": "code",
<<<<<<< Updated upstream
   "execution_count": null,
   "metadata": {},
   "outputs": [],
   "source": []
=======
   "execution_count": 2,
   "metadata": {},
   "outputs": [],
   "source": [
    "import numpy as np\n",
    "import matplotlib.pyplot as plt"
   ]
>>>>>>> Stashed changes
  },
  {
   "cell_type": "markdown",
   "metadata": {},
   "source": [
    "<font size = \"5\">\n",
    "\n",
    "1. For-loops to count conditional statements\n",
    "\n",
    "<font size = \"3\">\n",
    "\n",
    "   - Define a custom list of people's ages <br>\n",
    "   (write down ages for 8 people, between ten and fifty)\n",
    "   - Define an empty list called ```list_eligible```\n",
    "   - Use a For-Loop that goes through the ages of the 8 people, then appends the <br>\n",
    "   value ```True``` to  ```list_eligible``` if their age is greater than or equal to 16 <br>\n",
    "   and ```False``` otherwise\n"
   ]
  },
  {
   "cell_type": "code",
<<<<<<< Updated upstream
   "execution_count": null,
   "metadata": {},
   "outputs": [],
   "source": [
    "# Write your own code\n",
    "\n",
    "\n",
    "                                       "
=======
   "execution_count": 4,
   "metadata": {},
   "outputs": [
    {
     "name": "stdout",
     "output_type": "stream",
     "text": [
      "[False, False, True, True, True, True, True, True]\n"
     ]
    }
   ],
   "source": [
    "# Write your own code\n",
    "ages = [10,15,18,21,33,35,48,50]\n",
    "list_eligible = []\n",
    "\n",
    "for value in ages: \n",
    "    if value >= 16:\n",
    "        list_eligible.append(True)\n",
    "    else: \n",
    "        list_eligible.append(False)\n",
    "\n",
    "print(list_eligible)                                   "
>>>>>>> Stashed changes
   ]
  },
  {
   "cell_type": "markdown",
   "metadata": {},
   "source": [
    "<font size = \"5\">\n",
    "\n",
    "2.  This is a follow-up to question 1. \n",
    "\n",
    "<font size = \"3\">\n",
    "\n",
    "- If you run ```np.sum(list_eligible)```, what value is Python assigning to <br>\n",
    " ```True``` or ```False``` elements in the sum? Write you answer as a comment.\n",
    "- How would you use this information to count the amount of people who are <br>\n",
    "**NOT** eligible? Write code that answers this question.\n",
    "\n",
    "   "
   ]
  },
  {
   "cell_type": "code",
<<<<<<< Updated upstream
   "execution_count": null,
   "metadata": {},
   "outputs": [],
   "source": [
    "# Write your own code\n",
    "\n",
    "\n"
=======
   "execution_count": 8,
   "metadata": {},
   "outputs": [
    {
     "data": {
      "text/plain": [
       "6"
      ]
     },
     "execution_count": 8,
     "metadata": {},
     "output_type": "execute_result"
    }
   ],
   "source": [
    "# Write your own code\n",
    "\n",
    "np.sum(list_eligible)\n",
    "# Python is assining False as 0 and True as 1. That's why taking a sum of list_eligible results in 6, as there are 6 True's\n"
   ]
  },
  {
   "cell_type": "code",
   "execution_count": 9,
   "metadata": {},
   "outputs": [
    {
     "name": "stdout",
     "output_type": "stream",
     "text": [
      "2\n"
     ]
    }
   ],
   "source": [
    "# Count number of people not eligible \n",
    "print(len(list_eligible) - np.sum(list_eligible))"
>>>>>>> Stashed changes
   ]
  },
  {
   "cell_type": "markdown",
   "metadata": {},
   "source": [
    "<font size = \"5\">\n",
    "\n",
    "3. Use a For-Loop for message automation \n",
    "\n",
    "<font size = \"3\">\n",
    "\n",
    "- Write your own list of customer names\n",
    "- Print an automated message with the unique name of the customer that tells <br>\n",
    "them they've won a giveaway \n",
    "- How many messages to do you expect to see? Write code that automatically <br>\n",
    "prints the size of the customer list"
   ]
  },
  {
   "cell_type": "code",
<<<<<<< Updated upstream
   "execution_count": null,
   "metadata": {},
   "outputs": [],
   "source": [
    "# Write your own code\n",
    "\n",
    "\n",
    "    "
=======
   "execution_count": 11,
   "metadata": {},
   "outputs": [
    {
     "name": "stdout",
     "output_type": "stream",
     "text": [
      "Congrats Jenny, you won the giveaway!\n",
      "Congrats Jessi, you won the giveaway!\n",
      "Congrats Anoosha, you won the giveaway!\n",
      "Congrats Meena, you won the giveaway!\n",
      "Congrats Rachel, you won the giveaway!\n",
      "5\n"
     ]
    }
   ],
   "source": [
    "# Write your own code\n",
    "\n",
    "customer_names = [\"Jenny\", \"Jessi\", \"Anoosha\", \"Meena\", \"Rachel\"]\n",
    "\n",
    "for name in customer_names: \n",
    "    print(f\"Congrats {name}, you won the giveaway!\")\n",
    "\n",
    "\n",
    "print(len(customer_names))    "
>>>>>>> Stashed changes
   ]
  },
  {
   "cell_type": "markdown",
   "metadata": {},
   "source": [
    "<font size = '5'>\n",
    "\n",
    "4. For-Loops + Plotting\n",
    "\n",
    "<font size = \"3\">\n",
    "\n",
    "   - Create an array of x-values with all the integers between 1 and 10\n",
    "   - Create a vector ```vec_y1``` where each element is computed from <br>\n",
    "   the formula $ y_1 = 0.5x^4 + 2x^2 + 4x$.\n",
    "   - Create a vector ```vec_y2``` where each element is computed from <br>\n",
    "   the formula $ y_2 = 2x^3 + 4x + 4$.\n",
    "   - Create an object ```list_vectors``` with elements ```vec_y1``` and ```vec_y2```\n",
    "   - Create a for-loop that goes through each element of <br>\n",
    "   ```list_vectors``` and plots each list of $y$ values against $x$\n",
    "\n",
    "Note: The final output should be a 2 dimensional scatter plot with two sets, <br>\n",
    "of points, with the $y_1$ and $y_2$ on the vertical axis, and the $x$ values <br>\n",
    "on the horizontal axis. Remember to always label the axes to make it look <br>\n",
    "more professional."
   ]
  },
  {
   "cell_type": "code",
<<<<<<< Updated upstream
   "execution_count": null,
   "metadata": {},
   "outputs": [],
=======
   "execution_count": 18,
   "metadata": {},
   "outputs": [
    {
     "name": "stderr",
     "output_type": "stream",
     "text": [
      "No artists with labels found to put in legend.  Note that artists whose label start with an underscore are ignored when legend() is called with no argument.\n"
     ]
    },
    {
     "data": {
      "image/png": "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",
      "text/plain": [
       "<Figure size 640x480 with 1 Axes>"
      ]
     },
     "metadata": {},
     "output_type": "display_data"
    }
   ],
>>>>>>> Stashed changes
   "source": [
    "\n",
    "# Write your own code\n",
    "\n",
<<<<<<< Updated upstream
    "\n",
    "\n",
    "\n",
=======
    "x = np.arange(1, 11)\n",
    "vec_y1 = 0.5*x**4 + 2*x**2 + 4*x\n",
    "vec_y2 = 2*x**3 + 4*x + 4 \n",
    "list_vectors = [vec_y1, vec_y2]\n",
    "\n",
    "for value in list_vectors: \n",
    "    plt.scatter(y=value, x = x)\n",
    "\n",
    "plt.xlabel(\"x values\")\n",
    "plt.ylabel(\"y values\")\n",
    "plt.show()\n",
>>>>>>> Stashed changes
    "\n"
   ]
  },
  {
   "cell_type": "markdown",
   "metadata": {},
   "source": [
    "<font size = \"5\">\n",
    "\n",
    "5. Loops + Multiple Lists\n",
    "\n",
    "<font size =\"3\">\n",
    "\n",
    "Before starting, read the following information about nested loops:\n",
    "\n",
    "https://www.w3schools.com/python/gloss_python_for_nested.asp\n",
    "\n",
    "<img src=\"grading_scale.png\" alt=\"drawing\" width=\"600\"/>\n",
    "\n",
    "- Convert the following three lists to arrays\n",
    "\n",
    "```list_lower = [93, 87, 83, 80, 75, 70, 65, 60, 55, 0] ``` <br>\n",
    "```list_upper = [100,92, 86, 82, 79, 74, 69, 64, 59, 54] ``` <br>\n",
    "```list_letters = [\"A\",\"A-\",\"B+\",\"B\",\"B-\",\"C+\",\"C\",\"C-\",\"D\",\"F\"] ```\n",
    "\n",
    "- Convert the following list of student grades to an array\n",
    "\n",
    "```list_studentgrades = [80, 70, 96, 65, 92] ```\n",
    "\n",
    "- Create a nested for-loop that outputs\n",
    "\n",
    "\"The student got a numeric grade of .... and their letter grade was ...\"\n",
    "\n",
    "Example of the procedure:\n",
    "1. Start with the first student on the list, who's grade is 80.\n",
    "2. Check whether the student's grade is an A by checking whether 80 is between <br>\n",
    "93 and 100. Then check whether it's a B by checking whether the grade is between <br>\n",
    "87 and 92, and so on. This is the \"inner loop\".\n",
    "3. Within the inner loop, if you find the right grade bracket, print the <br>\n",
    "desired message. Else, do not print anything.\n",
    "4. Do this procedure for all students, i.e. the \"outer loop\".\n",
    "\n",
    "\n",
    "\n"
   ]
  },
  {
   "cell_type": "code",
<<<<<<< Updated upstream
   "execution_count": null,
   "metadata": {},
   "outputs": [],
   "source": [
    "# Write your own code\n",
    "\n"
=======
   "execution_count": 28,
   "metadata": {},
   "outputs": [
    {
     "name": "stdout",
     "output_type": "stream",
     "text": [
      "The student got a numeric grade of 80 and their letter grade was B\n",
      "The student got a numeric grade of 70 and their letter grade was C+\n",
      "The student got a numeric grade of 96 and their letter grade was A\n",
      "The student got a numeric grade of 65 and their letter grade was C\n",
      "The student got a numeric grade of 92 and their letter grade was A-\n"
     ]
    }
   ],
   "source": [
    "# Write your own code\n",
    "\n",
    "\n",
    "list_lower = [93, 87, 83, 80, 75, 70, 65, 60, 55, 0]\n",
    "list_upper = [100,92, 86, 82, 79, 74, 69, 64, 59, 54]\n",
    "list_letters = [\"A\",\"A-\",\"B+\",\"B\",\"B-\",\"C+\",\"C\",\"C-\",\"D\",\"F\"]\n",
    "list_studentgrades = [80, 70, 96, 65, 92]\n",
    "\n",
    "list_lower_array = np.array(list_lower)\n",
    "list_upper_array = np.array(list_upper)\n",
    "list_letters_array = np.array(list_letters)\n",
    "list_studentgrades_array = np.array(list_studentgrades)\n",
    "\n",
    "for value in list_studentgrades_array: \n",
    "    for i in range(len(list_lower_array)):\n",
    "        if list_lower_array[i] <= value <= list_upper_array[i]: \n",
    "            print(f\"The student got a numeric grade of {value} and their letter grade was {list_letters_array[i]}\")\n",
    "            break\n",
    "        else: \n",
    "            pass \n"
>>>>>>> Stashed changes
   ]
  }
 ],
 "metadata": {
  "kernelspec": {
   "display_name": "base",
   "language": "python",
   "name": "python3"
  },
  "language_info": {
   "codemirror_mode": {
    "name": "ipython",
    "version": 3
   },
   "file_extension": ".py",
   "mimetype": "text/x-python",
   "name": "python",
   "nbconvert_exporter": "python",
   "pygments_lexer": "ipython3",
   "version": "3.11.5"
  }
 },
 "nbformat": 4,
 "nbformat_minor": 2
}
